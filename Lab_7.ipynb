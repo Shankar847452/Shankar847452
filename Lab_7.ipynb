{
 "cells": [
  {
   "cell_type": "markdown",
   "id": "e93cce8b",
   "metadata": {},
   "source": [
    "# 7. Write a Python program to Handle missing data, encode categorical variables, and perform feature scaling. Use survival.csv file."
   ]
  },
  {
   "cell_type": "code",
   "execution_count": 10,
   "id": "ed7ac186",
   "metadata": {},
   "outputs": [
    {
     "name": "stdout",
     "output_type": "stream",
     "text": [
      "Missing values summary:\n",
      "PassengerId      0\n",
      "Survived         0\n",
      "Pclass           0\n",
      "Name             0\n",
      "Gender           0\n",
      "Age             86\n",
      "SibSp            0\n",
      "Parch            0\n",
      "Ticket           0\n",
      "Fare             1\n",
      "Cabin          327\n",
      "Embarked         0\n",
      "dtype: int64\n",
      "\n",
      "Processed data:\n",
      "   PassengerId  Survived    Pclass      Name    Gender       Age     SibSp  \\\n",
      "0    -1.727912 -0.755929  0.873482 -0.020718  0.755929  0.386231 -0.499470   \n",
      "1    -1.719625  1.322876  0.873482  1.611889 -1.322876  1.371370  0.616992   \n",
      "2    -1.711337 -0.755929 -0.315819  0.501385  0.755929  2.553537 -0.499470   \n",
      "3    -1.703050 -0.755929  0.873482  1.653326  0.755929 -0.204852 -0.499470   \n",
      "4    -1.694763  1.322876  0.873482 -0.252764 -1.322876 -0.598908  0.616992   \n",
      "\n",
      "      Parch    Ticket      Fare    Cabin  Embarked  \n",
      "0 -0.400248 -0.269494 -0.497413 -0.35149 -0.470915  \n",
      "1 -0.400248  0.372934 -0.512278 -0.35149  0.700767  \n",
      "2 -0.400248 -1.005027 -0.464100 -0.35149 -0.470915  \n",
      "3 -0.400248 -0.316046 -0.482475 -0.35149  0.700767  \n",
      "4  0.619896 -0.399841 -0.417492 -0.35149  0.700767  \n"
     ]
    }
   ],
   "source": [
    "import pandas as pd\n",
    "from sklearn.preprocessing import LabelEncoder, StandardScaler\n",
    "\n",
    "# Load the data\n",
    "data = pd.read_csv(\"survival.csv\")\n",
    "\n",
    "# Check for missing values\n",
    "print(\"Missing values summary:\")\n",
    "print(data.isnull().sum())\n",
    "\n",
    "# Handle missing data (replace with most frequent for categorical, median for numerical)\n",
    "def impute_missing_values(data):\n",
    "  for col in data.columns:\n",
    "    if data[col].dtype == object:\n",
    "      data[col].fillna(data[col].mode()[0], inplace=True)\n",
    "    else:\n",
    "      data[col].fillna(data[col].median(), inplace=True)\n",
    "  return data\n",
    "\n",
    "data = impute_missing_values(data.copy())  # Impute on a copy\n",
    "\n",
    "# Encode categorical variables\n",
    "categorical_cols = [col for col in data.columns if data[col].dtype == object]\n",
    "le = LabelEncoder()\n",
    "for col in categorical_cols:\n",
    "  data[col] = le.fit_transform(data[col])\n",
    "\n",
    "# Feature scaling (StandardScaler for numerical features)\n",
    "scaler = StandardScaler()\n",
    "numerical_cols = [col for col in data.columns if data[col].dtype != object]\n",
    "data[numerical_cols] = scaler.fit_transform(data[numerical_cols])\n",
    "\n",
    "# Print the processed data (optional)\n",
    "print(\"\\nProcessed data:\")\n",
    "print(data.head())"
   ]
  }
 ],
 "metadata": {
  "kernelspec": {
   "display_name": "Python 3 (ipykernel)",
   "language": "python",
   "name": "python3"
  },
  "language_info": {
   "codemirror_mode": {
    "name": "ipython",
    "version": 3
   },
   "file_extension": ".py",
   "mimetype": "text/x-python",
   "name": "python",
   "nbconvert_exporter": "python",
   "pygments_lexer": "ipython3",
   "version": "3.10.9"
  }
 },
 "nbformat": 4,
 "nbformat_minor": 5
}
